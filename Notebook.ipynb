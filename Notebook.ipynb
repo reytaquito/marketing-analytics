{
 "cells": [
  {
   "cell_type": "markdown",
   "metadata": {},
   "source": [
    "# Optimizing Marketing Spend for Showz: Customer Behavior & ROI Analysis\n",
    "\n"
   ]
  },
  {
   "cell_type": "markdown",
   "metadata": {},
   "source": [
    "**Project Overview**  \n",
    "In this notebook, we will explore how to maximize return on marketing investment for Showz, a **ticket‑sales platform**. Our investigation includes:\n",
    "\n",
    "- **Data Sources**  \n",
    "  - Server logs (Jan 2017 – Dec 2018) capturing user visits  \n",
    "  - Order records for the same period  \n",
    "  - Marketing spend statistics  \n",
    "\n",
    "- **Key Objectives**  \n",
    "  1. **User Behavior Analysis**  \n",
    "     - Track how and when customers interact with the platform  \n",
    "  2. **Purchase Timing**  \n",
    "     - Measure the interval between first visit and first purchase  \n",
    "  3. **Customer Revenue Contribution**  \n",
    "     - Calculate total revenue per customer over their lifetime  \n",
    "  4. **Acquisition ROI**  \n",
    "     - Determine the point at which a customer’s lifetime revenue covers their acquisition cost  \n",
    "\n",
    "> **Outcome:** Identify high‑ROI customer segments and pinpoint when marketing campaigns achieve payback."
   ]
  },
  {
   "cell_type": "markdown",
   "metadata": {},
   "source": [
    "## Importing Libraries and Datasets"
   ]
  },
  {
   "cell_type": "code",
   "execution_count": 1,
   "metadata": {
    "trusted": false
   },
   "outputs": [],
   "source": [
    "import pandas as pd\n",
    "import numpy as np\n",
    "import matplotlib.pyplot as plt\n",
    "%matplotlib inline\n",
    "import datetime"
   ]
  },
  {
   "cell_type": "code",
   "execution_count": 2,
   "metadata": {
    "trusted": false
   },
   "outputs": [],
   "source": [
    "visits = pd.read_csv('Datasets/visits_log_us.csv')\n",
    "orders = pd.read_csv('Datasets/orders_log_us.csv')\n",
    "costs = pd.read_csv('Datasets/costs_us.csv')"
   ]
  },
  {
   "cell_type": "markdown",
   "metadata": {},
   "source": [
    "## Data Preprocessing and Cleaning"
   ]
  },
  {
   "cell_type": "code",
   "execution_count": 3,
   "metadata": {
    "trusted": false
   },
   "outputs": [
    {
     "name": "stdout",
     "output_type": "stream",
     "text": [
      "<class 'pandas.core.frame.DataFrame'>\n",
      "RangeIndex: 359400 entries, 0 to 359399\n",
      "Data columns (total 5 columns):\n",
      " #   Column     Non-Null Count   Dtype \n",
      "---  ------     --------------   ----- \n",
      " 0   Device     359400 non-null  object\n",
      " 1   End Ts     359400 non-null  object\n",
      " 2   Source Id  359400 non-null  int64 \n",
      " 3   Start Ts   359400 non-null  object\n",
      " 4   Uid        359400 non-null  uint64\n",
      "dtypes: int64(1), object(3), uint64(1)\n",
      "memory usage: 13.7+ MB\n",
      "None\n",
      "    Device               End Ts  Source Id             Start Ts  \\\n",
      "0    touch  2017-12-20 17:38:00          4  2017-12-20 17:20:00   \n",
      "1  desktop  2018-02-19 17:21:00          2  2018-02-19 16:53:00   \n",
      "2    touch  2017-07-01 01:54:00          5  2017-07-01 01:54:00   \n",
      "3  desktop  2018-05-20 11:23:00          9  2018-05-20 10:59:00   \n",
      "4  desktop  2017-12-27 14:06:00          3  2017-12-27 14:06:00   \n",
      "\n",
      "                    Uid  \n",
      "0  16879256277535980062  \n",
      "1    104060357244891740  \n",
      "2   7459035603376831527  \n",
      "3  16174680259334210214  \n",
      "4   9969694820036681168  \n"
     ]
    }
   ],
   "source": [
    "# Displaying the first few rows and info of the datasets\n",
    "print(visits.info())\n",
    "print(visits.head())"
   ]
  },
  {
   "cell_type": "code",
   "execution_count": 4,
   "metadata": {
    "trusted": false
   },
   "outputs": [],
   "source": [
    "#converting date columns to datetime format\n",
    "visits['End Ts'] = pd.to_datetime(visits['End Ts'])\n",
    "visits['Start Ts'] = pd.to_datetime(visits['Start Ts'])"
   ]
  },
  {
   "cell_type": "code",
   "execution_count": 5,
   "metadata": {
    "trusted": false
   },
   "outputs": [
    {
     "name": "stdout",
     "output_type": "stream",
     "text": [
      "Device       0\n",
      "End Ts       0\n",
      "Source Id    0\n",
      "Start Ts     0\n",
      "Uid          0\n",
      "dtype: int64\n",
      "0\n"
     ]
    }
   ],
   "source": [
    "# verifying for null values and duplicates\n",
    "print(visits.isnull().sum())\n",
    "print(visits.duplicated().sum())"
   ]
  },
  {
   "cell_type": "code",
   "execution_count": 6,
   "metadata": {
    "trusted": false
   },
   "outputs": [
    {
     "name": "stdout",
     "output_type": "stream",
     "text": [
      "<class 'pandas.core.frame.DataFrame'>\n",
      "RangeIndex: 50415 entries, 0 to 50414\n",
      "Data columns (total 3 columns):\n",
      " #   Column   Non-Null Count  Dtype  \n",
      "---  ------   --------------  -----  \n",
      " 0   Buy Ts   50415 non-null  object \n",
      " 1   Revenue  50415 non-null  float64\n",
      " 2   Uid      50415 non-null  uint64 \n",
      "dtypes: float64(1), object(1), uint64(1)\n",
      "memory usage: 1.2+ MB\n",
      "None\n",
      "                Buy Ts  Revenue                   Uid\n",
      "0  2017-06-01 00:10:00    17.00  10329302124590727494\n",
      "1  2017-06-01 00:25:00     0.55  11627257723692907447\n",
      "2  2017-06-01 00:27:00     0.37  17903680561304213844\n",
      "3  2017-06-01 00:29:00     0.55  16109239769442553005\n",
      "4  2017-06-01 07:58:00     0.37  14200605875248379450\n"
     ]
    }
   ],
   "source": [
    "# Displaying the first few rows and info of the datasets\n",
    "print(orders.info())\n",
    "print(orders.head())"
   ]
  },
  {
   "cell_type": "code",
   "execution_count": 7,
   "metadata": {
    "trusted": false
   },
   "outputs": [],
   "source": [
    "#converting date columns to datetime format\n",
    "orders['Buy Ts'] = pd.to_datetime(orders['Buy Ts'])"
   ]
  },
  {
   "cell_type": "code",
   "execution_count": 8,
   "metadata": {
    "trusted": false
   },
   "outputs": [
    {
     "name": "stdout",
     "output_type": "stream",
     "text": [
      "Buy Ts     0\n",
      "Revenue    0\n",
      "Uid        0\n",
      "dtype: int64\n",
      "0\n"
     ]
    }
   ],
   "source": [
    "# verifying for null values and duplicates\n",
    "print(orders.isnull().sum())\n",
    "print(orders.duplicated().sum())"
   ]
  },
  {
   "cell_type": "code",
   "execution_count": 9,
   "metadata": {
    "trusted": false
   },
   "outputs": [
    {
     "name": "stdout",
     "output_type": "stream",
     "text": [
      "<class 'pandas.core.frame.DataFrame'>\n",
      "RangeIndex: 2542 entries, 0 to 2541\n",
      "Data columns (total 3 columns):\n",
      " #   Column     Non-Null Count  Dtype  \n",
      "---  ------     --------------  -----  \n",
      " 0   source_id  2542 non-null   int64  \n",
      " 1   dt         2542 non-null   object \n",
      " 2   costs      2542 non-null   float64\n",
      "dtypes: float64(1), int64(1), object(1)\n",
      "memory usage: 59.7+ KB\n",
      "None\n",
      "   source_id          dt  costs\n",
      "0          1  2017-06-01  75.20\n",
      "1          1  2017-06-02  62.25\n",
      "2          1  2017-06-03  36.53\n",
      "3          1  2017-06-04  55.00\n",
      "4          1  2017-06-05  57.08\n"
     ]
    }
   ],
   "source": [
    "# Displaying the first few rows and info of the datasets\n",
    "print(costs.info())\n",
    "print(costs.head())"
   ]
  },
  {
   "cell_type": "code",
   "execution_count": 10,
   "metadata": {
    "trusted": false
   },
   "outputs": [],
   "source": [
    "#converting date columns to datetime format\n",
    "costs['dt'] = pd.to_datetime(costs['dt'])"
   ]
  },
  {
   "cell_type": "code",
   "execution_count": 11,
   "metadata": {
    "trusted": false
   },
   "outputs": [
    {
     "name": "stdout",
     "output_type": "stream",
     "text": [
      "source_id    0\n",
      "dt           0\n",
      "costs        0\n",
      "dtype: int64\n",
      "0\n"
     ]
    }
   ],
   "source": [
    "# verifing for null values and duplicates\n",
    "print(costs.isnull().sum())\n",
    "print(costs.duplicated().sum())"
   ]
  },
  {
   "cell_type": "markdown",
   "metadata": {},
   "source": [
    "## Data Analysis and Metrics"
   ]
  },
  {
   "cell_type": "markdown",
   "metadata": {},
   "source": [
    "### Visits\n"
   ]
  },
  {
   "cell_type": "markdown",
   "metadata": {},
   "source": [
    "How many people use it every day, week and month?"
   ]
  },
  {
   "cell_type": "code",
   "execution_count": 12,
   "metadata": {
    "trusted": false
   },
   "outputs": [
    {
     "name": "stdout",
     "output_type": "stream",
     "text": [
      "Number of unique users per day: \n"
     ]
    },
    {
     "data": {
      "text/plain": [
       "date\n",
       "2017-06-01    605\n",
       "2017-06-02    608\n",
       "2017-06-03    445\n",
       "2017-06-04    476\n",
       "2017-06-05    820\n",
       "Name: Uid, dtype: int64"
      ]
     },
     "metadata": {},
     "output_type": "display_data"
    },
    {
     "name": "stdout",
     "output_type": "stream",
     "text": [
      "Number of sessions per day: \n"
     ]
    },
    {
     "data": {
      "text/plain": [
       "date\n",
       "2017-06-01    664\n",
       "2017-06-02    658\n",
       "2017-06-03    477\n",
       "2017-06-04    510\n",
       "2017-06-05    893\n",
       "Name: Uid, dtype: int64"
      ]
     },
     "metadata": {},
     "output_type": "display_data"
    }
   ],
   "source": [
    "# unique users per day\n",
    "visits['date'] = visits['Start Ts'].dt.date\n",
    "daily_users = visits.groupby('date')['Uid'].nunique()\n",
    "print(\"Number of unique users per day: \")\n",
    "display(daily_users.head())\n",
    "\n",
    "# Number of sessions per day\n",
    "daily_sessions = visits.groupby('date')['Uid'].count()\n",
    "print(\"Number of sessions per day: \")\n",
    "display(daily_sessions.head())"
   ]
  },
  {
   "cell_type": "code",
   "execution_count": 13,
   "metadata": {
    "trusted": false
   },
   "outputs": [
    {
     "name": "stdout",
     "output_type": "stream",
     "text": [
      "Number of unique users per week: \n"
     ]
    },
    {
     "data": {
      "text/plain": [
       "week\n",
       "2017-05-29    2021\n",
       "2017-06-05    4129\n",
       "2017-06-12    2812\n",
       "2017-06-19    2878\n",
       "2017-06-26    3064\n",
       "Name: Uid, dtype: int64"
      ]
     },
     "metadata": {},
     "output_type": "display_data"
    }
   ],
   "source": [
    "#number of unique users per week\n",
    "visits['week'] = visits['Start Ts'].dt.to_period('W').dt.start_time.dt.date\n",
    "weekly_users = visits.groupby('week')['Uid'].nunique()\n",
    "print(\"Number of unique users per week: \")\n",
    "display(weekly_users.head())"
   ]
  },
  {
   "cell_type": "code",
   "execution_count": 14,
   "metadata": {
    "trusted": false
   },
   "outputs": [
    {
     "name": "stdout",
     "output_type": "stream",
     "text": [
      "\n"
     ]
    },
    {
     "data": {
      "text/plain": [
       "'Number of unique users per month:'"
      ]
     },
     "metadata": {},
     "output_type": "display_data"
    },
    {
     "data": {
      "text/plain": [
       "month\n",
       "2017-06    13259\n",
       "2017-07    14183\n",
       "2017-08    11631\n",
       "2017-09    18975\n",
       "2017-10    29692\n",
       "Name: Uid, dtype: int64"
      ]
     },
     "metadata": {},
     "output_type": "display_data"
    }
   ],
   "source": [
    "#number of unique users per month\n",
    "visits['month'] = visits['Start Ts'].dt.to_period('M').astype(str)\n",
    "monthly_users = visits.groupby('month')['Uid'].nunique()\n",
    "print()\n",
    "display(\"Number of unique users per month:\", monthly_users.head())\n"
   ]
  },
  {
   "cell_type": "markdown",
   "metadata": {},
   "source": [
    "How many sessions are there per day?"
   ]
  },
  {
   "cell_type": "code",
   "execution_count": 15,
   "metadata": {
    "trusted": false
   },
   "outputs": [
    {
     "data": {
      "image/png": "[encoded data removed]",
      "text/plain": [
       "<Figure size 1000x600 with 1 Axes>"
      ]
     },
     "metadata": {},
     "output_type": "display_data"
    }
   ],
   "source": [
    "# calculating session duration\n",
    "visits['session_duration'] = (visits['End Ts'] - visits['Start Ts']).dt.total_seconds() / 60\n",
    "visits['session_duration'].plot(kind='hist',\n",
    "                               bins=90,\n",
    "                               title='Distribution of session duration (min)',\n",
    "                               figsize=(10,6),\n",
    "                               edgecolor='black')\n",
    "plt.xlim(-5, 100)\n",
    "plt.xlabel('Duration (min)')\n",
    "plt.ylabel('Frequency')\n",
    "plt.show()"
   ]
  },
  {
   "cell_type": "markdown",
   "metadata": {},
   "source": [
    "Most sessions last under 20 minutes, which is expected, as purchasing tickets typically takes less than 10 minutes — including selecting seats, entering personal details, and completing payment. This may indicate that the website is functioning efficiently. Sessions longer than 20 minutes could suggest usability issues or technical problems on the site. However, some sessions extend up to 100 minutes, which warrants further investigation. These outliers might reflect indecision from users, but it’s important to ensure they are not caused by poor site performance."
   ]
  },
  {
   "cell_type": "markdown",
   "metadata": {},
   "source": [
    "How often do users return?"
   ]
  },
  {
   "cell_type": "code",
   "execution_count": 16,
   "metadata": {
    "trusted": false
   },
   "outputs": [
    {
     "data": {
      "text/html": [
       "<div>\n",
       "<style scoped>\n",
       "    .dataframe tbody tr th:only-of-type {\n",
       "        vertical-align: middle;\n",
       "    }\n",
       "\n",
       "    .dataframe tbody tr th {\n",
       "        vertical-align: top;\n",
       "    }\n",
       "\n",
       "    .dataframe thead th {\n",
       "        text-align: right;\n",
       "    }\n",
       "</style>\n",
       "<table border=\"1\" class=\"dataframe\">\n",
       "  <thead>\n",
       "    <tr style=\"text-align: right;\">\n",
       "      <th></th>\n",
       "      <th>Uid</th>\n",
       "      <th>Start Ts</th>\n",
       "      <th>prev_visit</th>\n",
       "      <th>days_since_last</th>\n",
       "    </tr>\n",
       "  </thead>\n",
       "  <tbody>\n",
       "    <tr>\n",
       "      <th>196543</th>\n",
       "      <td>11863502262781</td>\n",
       "      <td>2018-03-01 17:27:00</td>\n",
       "      <td>NaT</td>\n",
       "      <td>NaN</td>\n",
       "    </tr>\n",
       "    <tr>\n",
       "      <th>257333</th>\n",
       "      <td>49537067089222</td>\n",
       "      <td>2018-02-06 15:55:00</td>\n",
       "      <td>NaT</td>\n",
       "      <td>NaN</td>\n",
       "    </tr>\n",
       "    <tr>\n",
       "      <th>173818</th>\n",
       "      <td>297729379853735</td>\n",
       "      <td>2017-06-07 18:47:00</td>\n",
       "      <td>NaT</td>\n",
       "      <td>NaN</td>\n",
       "    </tr>\n",
       "    <tr>\n",
       "      <th>173142</th>\n",
       "      <td>313578113262317</td>\n",
       "      <td>2017-09-18 22:49:00</td>\n",
       "      <td>NaT</td>\n",
       "      <td>NaN</td>\n",
       "    </tr>\n",
       "    <tr>\n",
       "      <th>192554</th>\n",
       "      <td>313578113262317</td>\n",
       "      <td>2018-02-18 15:17:00</td>\n",
       "      <td>2017-09-18 22:49:00</td>\n",
       "      <td>152.0</td>\n",
       "    </tr>\n",
       "    <tr>\n",
       "      <th>113873</th>\n",
       "      <td>313578113262317</td>\n",
       "      <td>2018-03-11 17:23:00</td>\n",
       "      <td>2018-02-18 15:17:00</td>\n",
       "      <td>21.0</td>\n",
       "    </tr>\n",
       "    <tr>\n",
       "      <th>34588</th>\n",
       "      <td>325320750514679</td>\n",
       "      <td>2017-09-30 14:29:00</td>\n",
       "      <td>NaT</td>\n",
       "      <td>NaN</td>\n",
       "    </tr>\n",
       "    <tr>\n",
       "      <th>41778</th>\n",
       "      <td>325320750514679</td>\n",
       "      <td>2018-02-26 12:33:00</td>\n",
       "      <td>2017-09-30 14:29:00</td>\n",
       "      <td>148.0</td>\n",
       "    </tr>\n",
       "    <tr>\n",
       "      <th>188450</th>\n",
       "      <td>397399764396656</td>\n",
       "      <td>2018-01-18 12:32:00</td>\n",
       "      <td>NaT</td>\n",
       "      <td>NaN</td>\n",
       "    </tr>\n",
       "    <tr>\n",
       "      <th>183750</th>\n",
       "      <td>407573351275847</td>\n",
       "      <td>2017-06-17 13:40:00</td>\n",
       "      <td>NaT</td>\n",
       "      <td>NaN</td>\n",
       "    </tr>\n",
       "  </tbody>\n",
       "</table>\n",
       "</div>"
      ],
      "text/plain": [
       "                    Uid            Start Ts          prev_visit  \\\n",
       "196543   11863502262781 2018-03-01 17:27:00                 NaT   \n",
       "257333   49537067089222 2018-02-06 15:55:00                 NaT   \n",
       "173818  297729379853735 2017-06-07 18:47:00                 NaT   \n",
       "173142  313578113262317 2017-09-18 22:49:00                 NaT   \n",
       "192554  313578113262317 2018-02-18 15:17:00 2017-09-18 22:49:00   \n",
       "113873  313578113262317 2018-03-11 17:23:00 2018-02-18 15:17:00   \n",
       "34588   325320750514679 2017-09-30 14:29:00                 NaT   \n",
       "41778   325320750514679 2018-02-26 12:33:00 2017-09-30 14:29:00   \n",
       "188450  397399764396656 2018-01-18 12:32:00                 NaT   \n",
       "183750  407573351275847 2017-06-17 13:40:00                 NaT   \n",
       "\n",
       "        days_since_last  \n",
       "196543              NaN  \n",
       "257333              NaN  \n",
       "173818              NaN  \n",
       "173142              NaN  \n",
       "192554            152.0  \n",
       "113873             21.0  \n",
       "34588               NaN  \n",
       "41778             148.0  \n",
       "188450              NaN  \n",
       "183750              NaN  "
      ]
     },
     "metadata": {},
     "output_type": "display_data"
    }
   ],
   "source": [
    "# Calculating the time since last visit for each user\n",
    "visits_sorted = visits.sort_values(by=['Uid', 'Start Ts'])\n",
    "visits_sorted['prev_visit'] = visits_sorted.groupby('Uid')['Start Ts'].shift(1)\n",
    "visits_sorted['days_since_last'] = (visits_sorted['Start Ts'] - visits_sorted['prev_visit']).dt.days\n",
    "display(visits_sorted[['Uid', 'Start Ts', 'prev_visit', 'days_since_last']].head(10))"
   ]
  },
  {
   "cell_type": "code",
   "execution_count": 17,
   "metadata": {
    "scrolled": true,
    "trusted": false
   },
   "outputs": [
    {
     "data": {
      "image/png": "[encoded data removed]",
      "text/plain": [
       "<Figure size 1000x600 with 1 Axes>"
      ]
     },
     "metadata": {},
     "output_type": "display_data"
    }
   ],
   "source": [
    "visits_sorted['days_since_last'].dropna().plot(kind='hist',\n",
    "                               bins=100,\n",
    "                               title='Frecuencia de retorno: Días entre visitas',\n",
    "                               figsize=(10,6),\n",
    "                               edgecolor='black',\n",
    "                               color='#317af4')\n",
    "plt.xlim(-10, 210)\n",
    "plt.xlabel('Días entre visitas')\n",
    "plt.show()"
   ]
  },
  {
   "cell_type": "markdown",
   "metadata": {},
   "source": [
    "The peak in activity occurs within the first three days, indicating that users visit the site multiple times during this period. This behavior may be due to users coordinating with friends, comparing prices, or checking seat availability. Additionally, the data suggests a short product lifecycle: users typically make a purchase shortly after visiting and do not return until a future event of interest, which may occur months later. This explains why some users revisit the site even after more than 200 days."
   ]
  },
  {
   "cell_type": "markdown",
   "metadata": {},
   "source": [
    "### Sales"
   ]
  },
  {
   "cell_type": "markdown",
   "metadata": {},
   "source": [
    "When do people start buying?"
   ]
  },
  {
   "cell_type": "code",
   "execution_count": 18,
   "metadata": {
    "scrolled": true,
    "trusted": false
   },
   "outputs": [
    {
     "name": "stdout",
     "output_type": "stream",
     "text": [
      "Time conversion for some users: \n"
     ]
    },
    {
     "data": {
      "text/html": [
       "<div>\n",
       "<style scoped>\n",
       "    .dataframe tbody tr th:only-of-type {\n",
       "        vertical-align: middle;\n",
       "    }\n",
       "\n",
       "    .dataframe tbody tr th {\n",
       "        vertical-align: top;\n",
       "    }\n",
       "\n",
       "    .dataframe thead th {\n",
       "        text-align: right;\n",
       "    }\n",
       "</style>\n",
       "<table border=\"1\" class=\"dataframe\">\n",
       "  <thead>\n",
       "    <tr style=\"text-align: right;\">\n",
       "      <th></th>\n",
       "      <th>Uid</th>\n",
       "      <th>first_visit</th>\n",
       "      <th>first_order</th>\n",
       "      <th>conversion_days</th>\n",
       "    </tr>\n",
       "  </thead>\n",
       "  <tbody>\n",
       "    <tr>\n",
       "      <th>11577</th>\n",
       "      <td>5807242877351636513</td>\n",
       "      <td>2017-09-13 20:42:00</td>\n",
       "      <td>2017-09-13 20:57:00</td>\n",
       "      <td>0</td>\n",
       "    </tr>\n",
       "    <tr>\n",
       "      <th>19933</th>\n",
       "      <td>10075911879844440863</td>\n",
       "      <td>2017-07-25 12:53:00</td>\n",
       "      <td>2017-09-03 22:02:00</td>\n",
       "      <td>40</td>\n",
       "    </tr>\n",
       "    <tr>\n",
       "      <th>27599</th>\n",
       "      <td>13950971602781323215</td>\n",
       "      <td>2018-02-12 23:50:00</td>\n",
       "      <td>2018-02-13 00:00:00</td>\n",
       "      <td>0</td>\n",
       "    </tr>\n",
       "    <tr>\n",
       "      <th>26530</th>\n",
       "      <td>13408352910403564964</td>\n",
       "      <td>2017-11-23 18:13:00</td>\n",
       "      <td>2018-03-17 22:30:00</td>\n",
       "      <td>114</td>\n",
       "    </tr>\n",
       "    <tr>\n",
       "      <th>22010</th>\n",
       "      <td>11121343464867158101</td>\n",
       "      <td>2017-11-16 19:39:00</td>\n",
       "      <td>2017-12-30 12:16:00</td>\n",
       "      <td>43</td>\n",
       "    </tr>\n",
       "    <tr>\n",
       "      <th>33754</th>\n",
       "      <td>17038061135351028524</td>\n",
       "      <td>2018-02-01 16:51:00</td>\n",
       "      <td>2018-02-13 13:49:00</td>\n",
       "      <td>11</td>\n",
       "    </tr>\n",
       "    <tr>\n",
       "      <th>19014</th>\n",
       "      <td>9619275213062918168</td>\n",
       "      <td>2017-09-22 15:25:00</td>\n",
       "      <td>2017-11-08 18:07:00</td>\n",
       "      <td>47</td>\n",
       "    </tr>\n",
       "    <tr>\n",
       "      <th>32517</th>\n",
       "      <td>16421632275071024567</td>\n",
       "      <td>2018-05-15 15:27:00</td>\n",
       "      <td>2018-05-15 15:47:00</td>\n",
       "      <td>0</td>\n",
       "    </tr>\n",
       "    <tr>\n",
       "      <th>28670</th>\n",
       "      <td>14466865575014439785</td>\n",
       "      <td>2017-06-05 08:40:00</td>\n",
       "      <td>2017-06-05 08:43:00</td>\n",
       "      <td>0</td>\n",
       "    </tr>\n",
       "    <tr>\n",
       "      <th>269</th>\n",
       "      <td>136882539483908538</td>\n",
       "      <td>2017-07-20 12:42:00</td>\n",
       "      <td>2017-07-20 12:46:00</td>\n",
       "      <td>0</td>\n",
       "    </tr>\n",
       "  </tbody>\n",
       "</table>\n",
       "</div>"
      ],
      "text/plain": [
       "                        Uid         first_visit         first_order  \\\n",
       "11577   5807242877351636513 2017-09-13 20:42:00 2017-09-13 20:57:00   \n",
       "19933  10075911879844440863 2017-07-25 12:53:00 2017-09-03 22:02:00   \n",
       "27599  13950971602781323215 2018-02-12 23:50:00 2018-02-13 00:00:00   \n",
       "26530  13408352910403564964 2017-11-23 18:13:00 2018-03-17 22:30:00   \n",
       "22010  11121343464867158101 2017-11-16 19:39:00 2017-12-30 12:16:00   \n",
       "33754  17038061135351028524 2018-02-01 16:51:00 2018-02-13 13:49:00   \n",
       "19014   9619275213062918168 2017-09-22 15:25:00 2017-11-08 18:07:00   \n",
       "32517  16421632275071024567 2018-05-15 15:27:00 2018-05-15 15:47:00   \n",
       "28670  14466865575014439785 2017-06-05 08:40:00 2017-06-05 08:43:00   \n",
       "269      136882539483908538 2017-07-20 12:42:00 2017-07-20 12:46:00   \n",
       "\n",
       "       conversion_days  \n",
       "11577                0  \n",
       "19933               40  \n",
       "27599                0  \n",
       "26530              114  \n",
       "22010               43  \n",
       "33754               11  \n",
       "19014               47  \n",
       "32517                0  \n",
       "28670                0  \n",
       "269                  0  "
      ]
     },
     "metadata": {},
     "output_type": "display_data"
    },
    {
     "data": {
      "image/png": "[encoded data removed]",
      "text/plain": [
       "<Figure size 1000x600 with 1 Axes>"
      ]
     },
     "metadata": {},
     "output_type": "display_data"
    }
   ],
   "source": [
    "first_visit = visits.groupby('Uid')['Start Ts'].min().reset_index().rename(columns={'Start Ts': 'first_visit'})\n",
    "first_order = orders.groupby('Uid')['Buy Ts'].min().reset_index().rename(columns={'Buy Ts': 'first_order'})\n",
    "\n",
    "#merging first visit and first order dataframes \n",
    "df_merge = pd.merge(first_visit, first_order, on='Uid', how='inner')\n",
    "df_merge['conversion_days'] = (df_merge['first_order']-df_merge['first_visit']).dt.days\n",
    "\n",
    "print('Time conversion for some users: ')\n",
    "display(df_merge.sample(10))\n",
    "\n",
    "df_merge['conversion_days'].plot(kind='hist',\n",
    "                                bins=90,\n",
    "                                title='Conversion time: Days from first visit to first order',\n",
    "                                figsize=(10,6),\n",
    "                                edgecolor='black',\n",
    "                                color='#317af4')\n",
    "plt.xlim(-2, 100)\n",
    "plt.xlabel('Days from first visit to first order')\n",
    "plt.show()"
   ]
  },
  {
   "cell_type": "markdown",
   "metadata": {},
   "source": [
    "Orders per day"
   ]
  },
  {
   "cell_type": "code",
   "execution_count": 19,
   "metadata": {
    "trusted": false
   },
   "outputs": [
    {
     "data": {
      "image/png": "[encoded data removed]",
      "text/plain": [
       "<Figure size 1200x600 with 1 Axes>"
      ]
     },
     "metadata": {},
     "output_type": "display_data"
    },
    {
     "name": "stdout",
     "output_type": "stream",
     "text": [
      "The day with the most orders was 2017-11-24 with 814 orders.\n"
     ]
    }
   ],
   "source": [
    "orders['order_date'] = orders['Buy Ts'].dt.date\n",
    "orders_per_day = orders.groupby('order_date').size()\n",
    "\n",
    "\n",
    "orders_per_day.plot(kind='line',\n",
    "                    figsize=(12,6),\n",
    "                    color='#317af4',\n",
    "                    title='Number of orders per day',\n",
    "                    xlabel='Date',\n",
    "                    ylabel='Number of orders'\n",
    "                   )\n",
    "plt.show()\n",
    "\n",
    "max_orders = orders_per_day.max()\n",
    "max_day = orders_per_day.idxmax()  \n",
    "print(f'The day with the most orders was {max_day} with {max_orders} orders.')\n"
   ]
  },
  {
   "cell_type": "markdown",
   "metadata": {},
   "source": [
    "Orders per week"
   ]
  },
  {
   "cell_type": "code",
   "execution_count": 20,
   "metadata": {
    "trusted": false
   },
   "outputs": [
    {
     "data": {
      "image/png": "[encoded data removed]",
      "text/plain": [
       "<Figure size 1200x600 with 1 Axes>"
      ]
     },
     "metadata": {},
     "output_type": "display_data"
    },
    {
     "name": "stdout",
     "output_type": "stream",
     "text": [
      "The week with the most orders started on 2017-11-20 with 1894 orders.\n"
     ]
    }
   ],
   "source": [
    "orders['order_week'] = orders['Buy Ts'].dt.to_period('W').dt.start_time.dt.date\n",
    "orders_per_week = orders.groupby('order_week').size()\n",
    "\n",
    "orders_per_week.plot(kind='line',\n",
    "                    figsize=(12,6),\n",
    "                    color='#317af4',\n",
    "                    title='Number of orders per week',\n",
    "                    xlabel='Date',\n",
    "                    ylabel='Number of orders'\n",
    "                   )\n",
    "plt.show()\n",
    "max_orders = orders_per_week.max()\n",
    "max_day = orders_per_week.idxmax()  \n",
    "\n",
    "\n",
    "print(f'The week with the most orders started on {max_day} with {max_orders} orders.')"
   ]
  },
  {
   "cell_type": "markdown",
   "metadata": {},
   "source": [
    "Orders per month"
   ]
  },
  {
   "cell_type": "code",
   "execution_count": 21,
   "metadata": {
    "trusted": false
   },
   "outputs": [
    {
     "data": {
      "image/png": "[encoded data removed]",
      "text/plain": [
       "<Figure size 1200x600 with 1 Axes>"
      ]
     },
     "metadata": {},
     "output_type": "display_data"
    },
    {
     "name": "stdout",
     "output_type": "stream",
     "text": [
      "The month with the most orders was 2017-12 with 6218 orders.\n"
     ]
    }
   ],
   "source": [
    "orders['order_month'] = orders['Buy Ts'].dt.to_period('M').astype(str)\n",
    "orders_per_month =  orders.groupby('order_month').size()\n",
    "\n",
    "orders_per_month.plot(kind='line',\n",
    "                    figsize=(12,6),\n",
    "                    color='#317af4',\n",
    "                    title='Number of orders per month',\n",
    "                    xlabel='Date',\n",
    "                    ylabel='Number of orders')\n",
    "plt.show()\n",
    "max_month = orders_per_month.idxmax()\n",
    "max_month_orders = orders_per_month.max()\n",
    "\n",
    "print(f\"The month with the most orders was {max_month} with {max_month_orders} orders.\")"
   ]
  },
  {
   "cell_type": "markdown",
   "metadata": {},
   "source": [
    "The peak of sales was between October 2017 and December 2017, where the highest number of sales were recorded in these months, from then on they began to decline again."
   ]
  },
  {
   "cell_type": "markdown",
   "metadata": {},
   "source": [
    "What is the average purchase size?"
   ]
  },
  {
   "cell_type": "code",
   "execution_count": 22,
   "metadata": {
    "scrolled": true,
    "trusted": false
   },
   "outputs": [
    {
     "name": "stdout",
     "output_type": "stream",
     "text": [
      "Average purchase size is: $6.90\n",
      "Average purchase size (items): 1.38\n"
     ]
    }
   ],
   "source": [
    "#Calculate the average purchase size in revenue\n",
    "orders_per_order = orders.groupby('Uid')['Revenue'].sum()\n",
    "avg= orders_per_order.mean()\n",
    "print(f\"Average purchase size is: ${avg:.2f}\")\n",
    "\n",
    "\n",
    "#Calculate the average purchase size in number of items\n",
    "avg_items_per_order = orders.groupby('Uid').size().mean()\n",
    "print(f\"Average purchase size (items): {avg_items_per_order:.2f}\")"
   ]
  },
  {
   "cell_type": "markdown",
   "metadata": {},
   "source": [
    "### How much money do they bring? Life Time Value(LTV)"
   ]
  },
  {
   "cell_type": "code",
   "execution_count": 36,
   "metadata": {
    "trusted": false
   },
   "outputs": [
    {
     "name": "stdout",
     "output_type": "stream",
     "text": [
      "Some LTV per user: \n"
     ]
    },
    {
     "data": {
      "text/html": [
       "<div>\n",
       "<style scoped>\n",
       "    .dataframe tbody tr th:only-of-type {\n",
       "        vertical-align: middle;\n",
       "    }\n",
       "\n",
       "    .dataframe tbody tr th {\n",
       "        vertical-align: top;\n",
       "    }\n",
       "\n",
       "    .dataframe thead th {\n",
       "        text-align: right;\n",
       "    }\n",
       "</style>\n",
       "<table border=\"1\" class=\"dataframe\">\n",
       "  <thead>\n",
       "    <tr style=\"text-align: right;\">\n",
       "      <th></th>\n",
       "      <th>Uid</th>\n",
       "      <th>LTV</th>\n",
       "    </tr>\n",
       "  </thead>\n",
       "  <tbody>\n",
       "    <tr>\n",
       "      <th>0</th>\n",
       "      <td>313578113262317</td>\n",
       "      <td>0.55</td>\n",
       "    </tr>\n",
       "    <tr>\n",
       "      <th>1</th>\n",
       "      <td>1575281904278712</td>\n",
       "      <td>3.05</td>\n",
       "    </tr>\n",
       "    <tr>\n",
       "      <th>2</th>\n",
       "      <td>2429014661409475</td>\n",
       "      <td>73.33</td>\n",
       "    </tr>\n",
       "    <tr>\n",
       "      <th>3</th>\n",
       "      <td>2464366381792757</td>\n",
       "      <td>2.44</td>\n",
       "    </tr>\n",
       "    <tr>\n",
       "      <th>4</th>\n",
       "      <td>2551852515556206</td>\n",
       "      <td>10.99</td>\n",
       "    </tr>\n",
       "    <tr>\n",
       "      <th>5</th>\n",
       "      <td>3077748354309989</td>\n",
       "      <td>4.67</td>\n",
       "    </tr>\n",
       "    <tr>\n",
       "      <th>6</th>\n",
       "      <td>3605148382144603</td>\n",
       "      <td>0.69</td>\n",
       "    </tr>\n",
       "    <tr>\n",
       "      <th>7</th>\n",
       "      <td>3753586865891862</td>\n",
       "      <td>3.50</td>\n",
       "    </tr>\n",
       "    <tr>\n",
       "      <th>8</th>\n",
       "      <td>4808417689019433</td>\n",
       "      <td>1.22</td>\n",
       "    </tr>\n",
       "    <tr>\n",
       "      <th>9</th>\n",
       "      <td>4992223027560440</td>\n",
       "      <td>3.05</td>\n",
       "    </tr>\n",
       "  </tbody>\n",
       "</table>\n",
       "</div>"
      ],
      "text/plain": [
       "                Uid    LTV\n",
       "0   313578113262317   0.55\n",
       "1  1575281904278712   3.05\n",
       "2  2429014661409475  73.33\n",
       "3  2464366381792757   2.44\n",
       "4  2551852515556206  10.99\n",
       "5  3077748354309989   4.67\n",
       "6  3605148382144603   0.69\n",
       "7  3753586865891862   3.50\n",
       "8  4808417689019433   1.22\n",
       "9  4992223027560440   3.05"
      ]
     },
     "metadata": {},
     "output_type": "display_data"
    },
    {
     "name": "stdout",
     "output_type": "stream",
     "text": [
      "Average LTV: $6.90\n"
     ]
    }
   ],
   "source": [
    "#Calculate LTV\n",
    "ltv = orders.groupby(\"Uid\")[\"Revenue\"].sum().reset_index()\n",
    "ltv.columns = [\"Uid\", \"LTV\"]\n",
    "print('Some LTV per user: ')\n",
    "display(ltv.head(10))\n",
    "\n",
    "average_ltv = ltv[\"LTV\"].mean()\n",
    "print(f\"Average LTV: ${average_ltv:.2f}\")\n"
   ]
  },
  {
   "cell_type": "markdown",
   "metadata": {},
   "source": [
    "### Marketing\n"
   ]
  },
  {
   "cell_type": "markdown",
   "metadata": {},
   "source": [
    "¿Cuánto dinero se gastó?"
   ]
  },
  {
   "cell_type": "code",
   "execution_count": 37,
   "metadata": {
    "trusted": false
   },
   "outputs": [
    {
     "name": "stdout",
     "output_type": "stream",
     "text": [
      "Total marketing costs: $329131.62\n"
     ]
    }
   ],
   "source": [
    "total_cost = costs['costs'].sum()\n",
    "print(f\"Total marketing costs: ${total_cost}\")"
   ]
  },
  {
   "cell_type": "code",
   "execution_count": 42,
   "metadata": {
    "trusted": false
   },
   "outputs": [
    {
     "name": "stdout",
     "output_type": "stream",
     "text": [
      "source_id\n",
      "1      20833.27\n",
      "2      42806.04\n",
      "3     141321.63\n",
      "4      61073.60\n",
      "5      51757.10\n",
      "9       5517.49\n",
      "10      5822.49\n",
      "Name: costs, dtype: float64\n"
     ]
    },
    {
     "data": {
      "image/png": "[encoded data removed]",
      "text/plain": [
       "<Figure size 640x480 with 1 Axes>"
      ]
     },
     "metadata": {},
     "output_type": "display_data"
    }
   ],
   "source": [
    "#cost by source\n",
    "cost_source = costs.groupby('source_id')['costs'].sum()\n",
    "print(cost_source)\n",
    "cost_source.plot(kind='bar',\n",
    "                title= 'Costs by source',\n",
    "                xlabel='Source',\n",
    "                ylabel='Cost $',\n",
    "                edgecolor='black',\n",
    "                color='#317af4'  \n",
    "                )\n",
    "\n",
    "plt.grid(\n",
    "    axis=\"y\",         \n",
    "    linestyle=\"--\",   \n",
    "    linewidth=0.7,    \n",
    "    alpha=0.5,       \n",
    ")\n",
    "plt.show()"
   ]
  },
  {
   "cell_type": "markdown",
   "metadata": {},
   "source": [
    "What was the customer acquisition cost from each source?"
   ]
  },
  {
   "cell_type": "code",
   "execution_count": null,
   "metadata": {
    "trusted": false
   },
   "outputs": [
    {
     "name": "stdout",
     "output_type": "stream",
     "text": [
      "Number of clients acquired by source: \n"
     ]
    },
    {
     "data": {
      "text/plain": [
       "Source Id\n",
       "1      2899\n",
       "2      3506\n",
       "3     10473\n",
       "4     10296\n",
       "5      6931\n",
       "7         1\n",
       "9      1088\n",
       "10     1329\n",
       "Name: Uid, dtype: int64"
      ]
     },
     "execution_count": 44,
     "metadata": {},
     "output_type": "execute_result"
    }
   ],
   "source": [
    "#We assume that the acquisition source of each user is that of their first registration\n",
    "user_source = visits.sort_values(by='Start Ts').groupby('Uid').first().reset_index()[['Uid', 'Source Id']]\n",
    "#merge both dataframes\n",
    "conversion_source = pd.merge( df_merge,user_source, on='Uid', how='left')\n",
    "#clients per source\n",
    "clients_source = conversion_source.groupby('Source Id')['Uid'].nunique()\n",
    "print('Number of clients acquired by source: ')\n",
    "display(clients_source)"
   ]
  },
  {
   "cell_type": "markdown",
   "metadata": {},
   "source": [
    "### Customer Acquisition Cost (CAC)"
   ]
  },
  {
   "cell_type": "code",
   "execution_count": null,
   "metadata": {
    "trusted": false
   },
   "outputs": [
    {
     "data": {
      "text/plain": [
       "1      7.19\n",
       "2     12.21\n",
       "3     13.49\n",
       "4      5.93\n",
       "5      7.47\n",
       "9      5.07\n",
       "10     4.38\n",
       "dtype: float64"
      ]
     },
     "execution_count": 45,
     "metadata": {},
     "output_type": "execute_result"
    }
   ],
   "source": [
    "#Calculate CAC (Customer Acquisition Cost)\n",
    "cac = (cost_source/clients_source).dropna().round(2)\n",
    "display(cac)"
   ]
  },
  {
   "cell_type": "markdown",
   "metadata": {},
   "source": [
    "### Return on Marketing Investment (ROMI)"
   ]
  },
  {
   "cell_type": "code",
   "execution_count": 46,
   "metadata": {
    "trusted": false
   },
   "outputs": [
    {
     "data": {
      "text/plain": [
       "Source Id\n",
       "1     31090.55\n",
       "2     46923.61\n",
       "3     54511.24\n",
       "4     56696.83\n",
       "5     52624.02\n",
       "9      5759.40\n",
       "10     4450.33\n",
       "Name: Revenue, dtype: float64"
      ]
     },
     "metadata": {},
     "output_type": "display_data"
    }
   ],
   "source": [
    "orders_source = pd.merge(orders, user_source, on='Uid', how='left')\n",
    "orders_source = orders_source[['Uid','Buy Ts', 'Revenue', 'Source Id']]\n",
    "#calculate revenue by source\n",
    "revenue_source = orders_source.groupby('Source Id')['Revenue'].sum()\n",
    "revenue_source = revenue_source[revenue_source > 2] # delete the source 7 \n",
    "display(revenue_source)"
   ]
  },
  {
   "cell_type": "code",
   "execution_count": 47,
   "metadata": {
    "scrolled": true,
    "trusted": false
   },
   "outputs": [
    {
     "name": "stdout",
     "output_type": "stream",
     "text": [
      "The ROMI by acquisition source is:\n"
     ]
    },
    {
     "data": {
      "text/plain": [
       "Source Id\n",
       "1     0.492351\n",
       "2     0.096191\n",
       "3    -0.614275\n",
       "4    -0.071664\n",
       "5     0.016750\n",
       "9     0.043844\n",
       "10   -0.235665\n",
       "dtype: float64"
      ]
     },
     "metadata": {},
     "output_type": "display_data"
    }
   ],
   "source": [
    "#calculate ROMI (Return on Marketing Investment)\n",
    "romi = (revenue_source - cost_source) / cost_source\n",
    "print(\"The ROMI by acquisition source is:\")\n",
    "display(romi)"
   ]
  },
  {
   "cell_type": "code",
   "execution_count": 49,
   "metadata": {
    "trusted": false
   },
   "outputs": [
    {
     "data": {
      "image/png": "[encoded data removed]",
      "text/plain": [
       "<Figure size 1400x500 with 2 Axes>"
      ]
     },
     "metadata": {},
     "output_type": "display_data"
    }
   ],
   "source": [
    "\n",
    "fig, ax = plt.subplots(1, 2, figsize=(14, 5))\n",
    "\n",
    "cac.plot(kind='bar', ax=ax[0], edgecolor='black', color='#317af4')\n",
    "ax[0].set_title('Cost per Acquisition (CAC) by Source')\n",
    "ax[0].set_xlabel('Source')\n",
    "ax[0].set_ylabel('Cost')\n",
    "\n",
    "romi.plot(kind='bar', ax=ax[1], edgecolor='black', color=\"#317af4\")\n",
    "ax[1].set_title('ROMI by Source')\n",
    "ax[1].set_xlabel('Source')\n",
    "ax[1].set_ylabel('ROMI')\n",
    "\n",
    "plt.tight_layout()\n",
    "plt.show()"
   ]
  },
  {
   "cell_type": "markdown",
   "metadata": {},
   "source": [
    "### Conclusions"
   ]
  },
  {
   "cell_type": "markdown",
   "metadata": {},
   "source": [
    "Source 1 is clearly the most profitable, with a relatively low acquisition cost and a ROMI close to 0.5 — meaning nearly half of every dollar invested is recovered. In contrast, Sources 2 and 3 have high customer acquisition costs; Source 2 barely breaks even, while Source 3 performs poorly with a negative ROMI of -0.6, indicating a loss of $0.60 for every dollar spent. This suggests that campaigns under Source 3 should be paused immediately. Source 4 has a moderate CAC and a less negative ROMI than Source 3, but it still results in financial loss. Source 5 shows a CAC of approximately $5 and a ROMI of -0.3, meaning $0.30 is lost per dollar invested — while not as severe as Source 3, it still indicates underperformance and should be re-evaluated or optimized."
   ]
  }
 ],
 "metadata": {
  "ExecuteTimeLog": [
   {
    "duration": 2119,
    "start_time": "2025-04-21T14:12:30.554Z"
   },
   {
    "duration": 428,
    "start_time": "2025-04-21T14:13:43.640Z"
   },
   {
    "duration": 38,
    "start_time": "2025-04-21T14:27:23.129Z"
   },
   {
    "duration": 39,
    "start_time": "2025-04-21T14:27:43.838Z"
   },
   {
    "duration": 124,
    "start_time": "2025-04-21T14:34:44.138Z"
   },
   {
    "duration": 62,
    "start_time": "2025-04-21T14:34:52.302Z"
   },
   {
    "duration": 14,
    "start_time": "2025-04-21T14:35:01.190Z"
   },
   {
    "duration": 85,
    "start_time": "2025-04-21T14:42:36.476Z"
   },
   {
    "duration": 79,
    "start_time": "2025-04-21T14:43:04.457Z"
   },
   {
    "duration": 11,
    "start_time": "2025-04-21T14:43:24.772Z"
   },
   {
    "duration": 551,
    "start_time": "2025-04-21T14:48:29.575Z"
   },
   {
    "duration": 10,
    "start_time": "2025-04-21T14:48:41.583Z"
   },
   {
    "duration": 14,
    "start_time": "2025-04-21T14:48:51.759Z"
   },
   {
    "duration": 83,
    "start_time": "2025-04-21T14:48:59.959Z"
   },
   {
    "duration": 9,
    "start_time": "2025-04-21T14:49:29.789Z"
   },
   {
    "duration": 10,
    "start_time": "2025-04-21T15:06:18.758Z"
   },
   {
    "duration": 4,
    "start_time": "2025-04-21T15:06:57.009Z"
   },
   {
    "duration": 13,
    "start_time": "2025-04-21T15:07:03.479Z"
   },
   {
    "duration": 4,
    "start_time": "2025-04-21T15:07:13.452Z"
   },
   {
    "duration": 6,
    "start_time": "2025-04-21T15:07:30.182Z"
   },
   {
    "duration": 2,
    "start_time": "2025-04-21T15:30:19.149Z"
   },
   {
    "duration": 2,
    "start_time": "2025-04-21T15:30:20.743Z"
   },
   {
    "duration": 2,
    "start_time": "2025-04-22T02:58:36.602Z"
   },
   {
    "duration": 155,
    "start_time": "2025-04-22T03:01:06.027Z"
   },
   {
    "duration": 2072,
    "start_time": "2025-04-22T03:01:13.280Z"
   },
   {
    "duration": 586,
    "start_time": "2025-04-22T03:01:15.354Z"
   },
   {
    "duration": 45,
    "start_time": "2025-04-22T03:01:15.942Z"
   },
   {
    "duration": 124,
    "start_time": "2025-04-22T03:01:15.988Z"
   },
   {
    "duration": 72,
    "start_time": "2025-04-22T03:01:16.114Z"
   },
   {
    "duration": 26,
    "start_time": "2025-04-22T03:01:16.188Z"
   },
   {
    "duration": 10,
    "start_time": "2025-04-22T03:01:16.215Z"
   },
   {
    "duration": 9,
    "start_time": "2025-04-22T03:01:16.226Z"
   },
   {
    "duration": 10,
    "start_time": "2025-04-22T03:01:16.236Z"
   },
   {
    "duration": 4,
    "start_time": "2025-04-22T03:01:16.247Z"
   },
   {
    "duration": 6,
    "start_time": "2025-04-22T03:01:16.252Z"
   },
   {
    "duration": 8,
    "start_time": "2025-04-22T03:01:16.261Z"
   },
   {
    "duration": 524,
    "start_time": "2025-04-22T03:02:14.440Z"
   },
   {
    "duration": 7,
    "start_time": "2025-04-22T03:02:30.799Z"
   },
   {
    "duration": 80,
    "start_time": "2025-04-22T03:04:39.330Z"
   },
   {
    "duration": 153,
    "start_time": "2025-04-22T03:04:46.686Z"
   },
   {
    "duration": 154,
    "start_time": "2025-04-22T03:06:58.100Z"
   },
   {
    "duration": 158,
    "start_time": "2025-04-22T03:07:28.926Z"
   },
   {
    "duration": 156,
    "start_time": "2025-04-22T03:08:09.154Z"
   },
   {
    "duration": 159,
    "start_time": "2025-04-22T03:08:19.338Z"
   },
   {
    "duration": 152,
    "start_time": "2025-04-22T03:08:33.348Z"
   },
   {
    "duration": 172,
    "start_time": "2025-04-22T03:08:44.450Z"
   },
   {
    "duration": 3999,
    "start_time": "2025-04-22T03:11:15.223Z"
   },
   {
    "duration": 167,
    "start_time": "2025-04-22T03:11:30.111Z"
   },
   {
    "duration": 19966,
    "start_time": "2025-04-22T03:14:09.608Z"
   },
   {
    "duration": 0,
    "start_time": "2025-04-22T03:14:52.630Z"
   },
   {
    "duration": 417,
    "start_time": "2025-04-22T03:15:01.610Z"
   },
   {
    "duration": 416,
    "start_time": "2025-04-22T03:15:02.030Z"
   },
   {
    "duration": 40,
    "start_time": "2025-04-22T03:15:02.447Z"
   },
   {
    "duration": 127,
    "start_time": "2025-04-22T03:15:02.488Z"
   },
   {
    "duration": 72,
    "start_time": "2025-04-22T03:15:02.618Z"
   },
   {
    "duration": 24,
    "start_time": "2025-04-22T03:15:02.691Z"
   },
   {
    "duration": 10,
    "start_time": "2025-04-22T03:15:02.716Z"
   },
   {
    "duration": 9,
    "start_time": "2025-04-22T03:15:02.727Z"
   },
   {
    "duration": 10,
    "start_time": "2025-04-22T03:15:02.737Z"
   },
   {
    "duration": 4,
    "start_time": "2025-04-22T03:15:02.748Z"
   },
   {
    "duration": 6,
    "start_time": "2025-04-22T03:15:02.753Z"
   },
   {
    "duration": 190,
    "start_time": "2025-04-22T03:15:02.760Z"
   },
   {
    "duration": 20210,
    "start_time": "2025-04-22T03:15:02.952Z"
   },
   {
    "duration": 20359,
    "start_time": "2025-04-22T03:15:39.608Z"
   },
   {
    "duration": 33,
    "start_time": "2025-04-22T03:17:31.721Z"
   },
   {
    "duration": 167,
    "start_time": "2025-04-22T03:18:45.137Z"
   },
   {
    "duration": 162,
    "start_time": "2025-04-22T03:26:10.848Z"
   },
   {
    "duration": 1049,
    "start_time": "2025-04-22T03:26:29.099Z"
   },
   {
    "duration": 1072,
    "start_time": "2025-04-22T03:26:34.860Z"
   },
   {
    "duration": 14,
    "start_time": "2025-04-22T03:29:40.678Z"
   },
   {
    "duration": 21,
    "start_time": "2025-04-22T03:29:48.604Z"
   },
   {
    "duration": 12,
    "start_time": "2025-04-22T03:29:54.853Z"
   },
   {
    "duration": 10,
    "start_time": "2025-04-22T03:30:02.186Z"
   },
   {
    "duration": 6,
    "start_time": "2025-04-22T03:42:29.699Z"
   },
   {
    "duration": 20,
    "start_time": "2025-04-22T03:42:34.312Z"
   },
   {
    "duration": 17,
    "start_time": "2025-04-22T03:43:03.659Z"
   },
   {
    "duration": 143,
    "start_time": "2025-04-22T03:47:00.137Z"
   },
   {
    "duration": 126,
    "start_time": "2025-04-22T03:47:11.456Z"
   },
   {
    "duration": 162,
    "start_time": "2025-04-22T03:47:19.772Z"
   },
   {
    "duration": 171,
    "start_time": "2025-04-22T03:47:26.871Z"
   },
   {
    "duration": 163,
    "start_time": "2025-04-22T03:53:23.781Z"
   },
   {
    "duration": 191,
    "start_time": "2025-04-22T03:53:34.950Z"
   },
   {
    "duration": 257,
    "start_time": "2025-04-22T03:53:48.950Z"
   },
   {
    "duration": 198,
    "start_time": "2025-04-22T03:53:58.723Z"
   },
   {
    "duration": 173,
    "start_time": "2025-04-22T03:54:11.795Z"
   },
   {
    "duration": 190,
    "start_time": "2025-04-22T03:54:16.439Z"
   },
   {
    "duration": 175,
    "start_time": "2025-04-22T03:54:24.624Z"
   },
   {
    "duration": 179,
    "start_time": "2025-04-22T03:54:37.600Z"
   },
   {
    "duration": 227,
    "start_time": "2025-04-22T03:54:41.369Z"
   },
   {
    "duration": 739,
    "start_time": "2025-04-22T03:55:24.886Z"
   },
   {
    "duration": 178,
    "start_time": "2025-04-22T03:55:46.280Z"
   },
   {
    "duration": 172,
    "start_time": "2025-04-22T03:56:02.162Z"
   },
   {
    "duration": 193,
    "start_time": "2025-04-22T03:56:18.537Z"
   },
   {
    "duration": 195,
    "start_time": "2025-04-22T03:56:40.689Z"
   },
   {
    "duration": 267,
    "start_time": "2025-04-22T03:57:01.168Z"
   },
   {
    "duration": 206,
    "start_time": "2025-04-22T03:57:05.634Z"
   },
   {
    "duration": 169,
    "start_time": "2025-04-22T03:57:51.783Z"
   },
   {
    "duration": 171,
    "start_time": "2025-04-22T03:58:00.650Z"
   },
   {
    "duration": 181,
    "start_time": "2025-04-22T03:58:14.537Z"
   },
   {
    "duration": 215,
    "start_time": "2025-04-22T03:58:21.138Z"
   },
   {
    "duration": 157,
    "start_time": "2025-04-22T03:58:27.889Z"
   },
   {
    "duration": 187,
    "start_time": "2025-04-22T03:58:31.804Z"
   },
   {
    "duration": 182,
    "start_time": "2025-04-22T14:23:07.468Z"
   },
   {
    "duration": 2263,
    "start_time": "2025-04-22T14:23:15.835Z"
   },
   {
    "duration": 468,
    "start_time": "2025-04-22T14:23:18.100Z"
   },
   {
    "duration": 50,
    "start_time": "2025-04-22T14:23:18.570Z"
   },
   {
    "duration": 140,
    "start_time": "2025-04-22T14:23:18.623Z"
   },
   {
    "duration": 79,
    "start_time": "2025-04-22T14:23:18.766Z"
   },
   {
    "duration": 11,
    "start_time": "2025-04-22T14:23:18.847Z"
   },
   {
    "duration": 10,
    "start_time": "2025-04-22T14:23:18.860Z"
   },
   {
    "duration": 10,
    "start_time": "2025-04-22T14:23:18.871Z"
   },
   {
    "duration": 50,
    "start_time": "2025-04-22T14:23:18.883Z"
   },
   {
    "duration": 3,
    "start_time": "2025-04-22T14:23:18.935Z"
   },
   {
    "duration": 6,
    "start_time": "2025-04-22T14:23:18.940Z"
   },
   {
    "duration": 184,
    "start_time": "2025-04-22T14:23:18.947Z"
   },
   {
    "duration": 181,
    "start_time": "2025-04-22T14:23:19.132Z"
   },
   {
    "duration": 1210,
    "start_time": "2025-04-22T14:23:19.318Z"
   },
   {
    "duration": 209,
    "start_time": "2025-04-22T14:23:20.533Z"
   },
   {
    "duration": 297,
    "start_time": "2025-04-22T14:23:20.745Z"
   },
   {
    "duration": 254,
    "start_time": "2025-04-22T14:47:07.308Z"
   },
   {
    "duration": 282,
    "start_time": "2025-04-22T14:47:23.964Z"
   },
   {
    "duration": 254,
    "start_time": "2025-04-22T14:47:57.888Z"
   },
   {
    "duration": 120,
    "start_time": "2025-04-22T14:49:10.122Z"
   },
   {
    "duration": 186,
    "start_time": "2025-04-22T14:50:15.357Z"
   },
   {
    "duration": 185,
    "start_time": "2025-04-22T14:50:30.599Z"
   },
   {
    "duration": 176,
    "start_time": "2025-04-22T14:51:00.547Z"
   },
   {
    "duration": 172,
    "start_time": "2025-04-22T14:51:19.678Z"
   },
   {
    "duration": 416,
    "start_time": "2025-04-22T14:51:49.412Z"
   },
   {
    "duration": 174,
    "start_time": "2025-04-22T14:52:13.367Z"
   },
   {
    "duration": 183,
    "start_time": "2025-04-22T14:52:41.746Z"
   },
   {
    "duration": 182,
    "start_time": "2025-04-22T14:52:46.055Z"
   },
   {
    "duration": 171,
    "start_time": "2025-04-22T14:52:49.322Z"
   },
   {
    "duration": 191,
    "start_time": "2025-04-22T14:53:04.130Z"
   },
   {
    "duration": 225,
    "start_time": "2025-04-22T14:53:23.726Z"
   },
   {
    "duration": 192,
    "start_time": "2025-04-22T14:53:31.539Z"
   },
   {
    "duration": 170,
    "start_time": "2025-04-22T14:53:45.245Z"
   },
   {
    "duration": 174,
    "start_time": "2025-04-22T15:24:06.477Z"
   },
   {
    "duration": 169,
    "start_time": "2025-04-22T15:24:45.828Z"
   },
   {
    "duration": 177,
    "start_time": "2025-04-22T15:24:50.741Z"
   },
   {
    "duration": 219,
    "start_time": "2025-04-22T15:24:59.577Z"
   },
   {
    "duration": 218,
    "start_time": "2025-04-22T15:25:11.236Z"
   },
   {
    "duration": 300,
    "start_time": "2025-04-22T15:25:19.057Z"
   },
   {
    "duration": 210,
    "start_time": "2025-04-22T15:30:49.275Z"
   },
   {
    "duration": 258,
    "start_time": "2025-04-22T15:31:17.466Z"
   },
   {
    "duration": 217,
    "start_time": "2025-04-22T15:31:45.662Z"
   },
   {
    "duration": 7,
    "start_time": "2025-04-22T15:56:28.872Z"
   },
   {
    "duration": 5,
    "start_time": "2025-04-22T15:56:45.029Z"
   },
   {
    "duration": 65,
    "start_time": "2025-04-22T15:59:30.260Z"
   },
   {
    "duration": 58,
    "start_time": "2025-04-22T15:59:38.705Z"
   },
   {
    "duration": 66,
    "start_time": "2025-04-22T16:01:54.592Z"
   },
   {
    "duration": 93,
    "start_time": "2025-04-22T16:03:43.232Z"
   },
   {
    "duration": 84,
    "start_time": "2025-04-22T16:03:53.124Z"
   },
   {
    "duration": 84,
    "start_time": "2025-04-22T16:05:05.484Z"
   },
   {
    "duration": 91,
    "start_time": "2025-04-22T16:05:17.133Z"
   },
   {
    "duration": 91,
    "start_time": "2025-04-22T16:08:11.875Z"
   },
   {
    "duration": 92,
    "start_time": "2025-04-22T16:08:23.689Z"
   },
   {
    "duration": 456,
    "start_time": "2025-04-22T16:11:28.926Z"
   },
   {
    "duration": 411,
    "start_time": "2025-04-22T16:11:29.384Z"
   },
   {
    "duration": 41,
    "start_time": "2025-04-22T16:11:29.797Z"
   },
   {
    "duration": 128,
    "start_time": "2025-04-22T16:11:29.841Z"
   },
   {
    "duration": 83,
    "start_time": "2025-04-22T16:11:29.970Z"
   },
   {
    "duration": 11,
    "start_time": "2025-04-22T16:11:30.055Z"
   },
   {
    "duration": 10,
    "start_time": "2025-04-22T16:11:30.068Z"
   },
   {
    "duration": 26,
    "start_time": "2025-04-22T16:11:30.079Z"
   },
   {
    "duration": 10,
    "start_time": "2025-04-22T16:11:30.107Z"
   },
   {
    "duration": 5,
    "start_time": "2025-04-22T16:11:30.121Z"
   },
   {
    "duration": 7,
    "start_time": "2025-04-22T16:11:30.127Z"
   },
   {
    "duration": 188,
    "start_time": "2025-04-22T16:11:30.136Z"
   },
   {
    "duration": 180,
    "start_time": "2025-04-22T16:11:30.326Z"
   },
   {
    "duration": 1112,
    "start_time": "2025-04-22T16:11:30.507Z"
   },
   {
    "duration": 220,
    "start_time": "2025-04-22T16:11:31.620Z"
   },
   {
    "duration": 303,
    "start_time": "2025-04-22T16:11:31.842Z"
   },
   {
    "duration": 237,
    "start_time": "2025-04-22T16:11:32.148Z"
   },
   {
    "duration": 96,
    "start_time": "2025-04-22T16:11:32.387Z"
   },
   {
    "duration": 121,
    "start_time": "2025-04-22T16:11:32.485Z"
   },
   {
    "duration": 249,
    "start_time": "2025-04-22T16:11:56.858Z"
   },
   {
    "duration": 165,
    "start_time": "2025-04-22T16:12:04.421Z"
   },
   {
    "duration": 146,
    "start_time": "2025-04-22T16:12:08.848Z"
   },
   {
    "duration": 430,
    "start_time": "2025-04-22T16:12:36.923Z"
   },
   {
    "duration": 159,
    "start_time": "2025-04-22T16:12:49.739Z"
   },
   {
    "duration": 162,
    "start_time": "2025-04-22T16:12:57.630Z"
   },
   {
    "duration": 227,
    "start_time": "2025-04-22T16:13:10.437Z"
   },
   {
    "duration": 164,
    "start_time": "2025-04-22T16:13:28.333Z"
   },
   {
    "duration": 167,
    "start_time": "2025-04-22T16:14:28.691Z"
   },
   {
    "duration": 164,
    "start_time": "2025-04-22T16:14:46.535Z"
   },
   {
    "duration": 166,
    "start_time": "2025-04-22T16:15:07.274Z"
   },
   {
    "duration": 188,
    "start_time": "2025-04-22T16:15:25.912Z"
   },
   {
    "duration": 195,
    "start_time": "2025-04-22T16:15:34.475Z"
   },
   {
    "duration": 201,
    "start_time": "2025-04-22T16:15:50.100Z"
   },
   {
    "duration": 280,
    "start_time": "2025-04-22T16:16:08.707Z"
   },
   {
    "duration": 224,
    "start_time": "2025-04-22T16:17:54.105Z"
   },
   {
    "duration": 8,
    "start_time": "2025-04-22T16:21:47.513Z"
   },
   {
    "duration": 16,
    "start_time": "2025-04-22T16:22:48.763Z"
   },
   {
    "duration": 17,
    "start_time": "2025-04-22T16:22:58.518Z"
   },
   {
    "duration": 20,
    "start_time": "2025-04-22T17:51:09.413Z"
   },
   {
    "duration": 41,
    "start_time": "2025-04-22T17:52:16.073Z"
   },
   {
    "duration": 134,
    "start_time": "2025-04-22T17:52:46.498Z"
   },
   {
    "duration": 4104,
    "start_time": "2025-04-22T17:53:12.607Z"
   },
   {
    "duration": 132,
    "start_time": "2025-04-22T17:53:22.960Z"
   },
   {
    "duration": 1340,
    "start_time": "2025-04-22T17:53:40.530Z"
   },
   {
    "duration": 151,
    "start_time": "2025-04-22T17:53:48.247Z"
   },
   {
    "duration": 162,
    "start_time": "2025-04-22T17:54:03.967Z"
   },
   {
    "duration": 159,
    "start_time": "2025-04-22T17:54:32.734Z"
   },
   {
    "duration": 153,
    "start_time": "2025-04-22T17:55:19.311Z"
   },
   {
    "duration": 151,
    "start_time": "2025-04-22T17:55:52.273Z"
   },
   {
    "duration": 158,
    "start_time": "2025-04-22T17:56:26.789Z"
   },
   {
    "duration": 168,
    "start_time": "2025-04-22T17:56:51.573Z"
   },
   {
    "duration": 6,
    "start_time": "2025-04-22T17:57:05.669Z"
   },
   {
    "duration": 166,
    "start_time": "2025-04-22T17:57:08.961Z"
   },
   {
    "duration": 233,
    "start_time": "2025-04-22T17:57:57.882Z"
   },
   {
    "duration": 181,
    "start_time": "2025-04-22T18:45:50.430Z"
   },
   {
    "duration": 2105,
    "start_time": "2025-04-22T18:45:58.144Z"
   },
   {
    "duration": 473,
    "start_time": "2025-04-22T18:46:00.251Z"
   },
   {
    "duration": 41,
    "start_time": "2025-04-22T18:46:00.728Z"
   },
   {
    "duration": 127,
    "start_time": "2025-04-22T18:46:00.773Z"
   },
   {
    "duration": 78,
    "start_time": "2025-04-22T18:46:00.902Z"
   },
   {
    "duration": 15,
    "start_time": "2025-04-22T18:46:00.987Z"
   },
   {
    "duration": 10,
    "start_time": "2025-04-22T18:46:01.004Z"
   },
   {
    "duration": 20,
    "start_time": "2025-04-22T18:46:01.016Z"
   },
   {
    "duration": 11,
    "start_time": "2025-04-22T18:46:01.038Z"
   },
   {
    "duration": 5,
    "start_time": "2025-04-22T18:46:01.050Z"
   },
   {
    "duration": 29,
    "start_time": "2025-04-22T18:46:01.057Z"
   },
   {
    "duration": 178,
    "start_time": "2025-04-22T18:46:01.089Z"
   },
   {
    "duration": 207,
    "start_time": "2025-04-22T18:46:01.270Z"
   },
   {
    "duration": 1122,
    "start_time": "2025-04-22T18:46:01.480Z"
   },
   {
    "duration": 205,
    "start_time": "2025-04-22T18:46:02.604Z"
   },
   {
    "duration": 287,
    "start_time": "2025-04-22T18:46:02.811Z"
   },
   {
    "duration": 232,
    "start_time": "2025-04-22T18:46:03.101Z"
   },
   {
    "duration": 108,
    "start_time": "2025-04-22T18:46:03.335Z"
   },
   {
    "duration": 205,
    "start_time": "2025-04-22T18:46:03.445Z"
   },
   {
    "duration": 203,
    "start_time": "2025-04-22T18:46:03.652Z"
   },
   {
    "duration": 170,
    "start_time": "2025-04-22T18:46:10.020Z"
   },
   {
    "duration": 108,
    "start_time": "2025-04-22T18:47:25.287Z"
   },
   {
    "duration": 175,
    "start_time": "2025-04-22T18:47:36.178Z"
   },
   {
    "duration": 163,
    "start_time": "2025-04-22T18:48:20.027Z"
   },
   {
    "duration": 192,
    "start_time": "2025-04-22T18:49:21.131Z"
   },
   {
    "duration": 213,
    "start_time": "2025-04-22T18:49:36.491Z"
   },
   {
    "duration": 164,
    "start_time": "2025-04-22T19:16:58.515Z"
   },
   {
    "duration": 169,
    "start_time": "2025-04-22T19:17:21.305Z"
   },
   {
    "duration": 201,
    "start_time": "2025-04-22T19:19:09.093Z"
   },
   {
    "duration": 241,
    "start_time": "2025-04-22T19:19:14.970Z"
   },
   {
    "duration": 173,
    "start_time": "2025-04-22T19:20:02.342Z"
   },
   {
    "duration": 174,
    "start_time": "2025-04-22T19:20:14.640Z"
   },
   {
    "duration": 166,
    "start_time": "2025-04-22T19:21:18.941Z"
   },
   {
    "duration": 213,
    "start_time": "2025-04-22T19:21:27.936Z"
   },
   {
    "duration": 176,
    "start_time": "2025-04-22T19:21:42.278Z"
   },
   {
    "duration": 180,
    "start_time": "2025-04-22T19:21:48.107Z"
   },
   {
    "duration": 180,
    "start_time": "2025-04-22T19:28:32.085Z"
   },
   {
    "duration": 175,
    "start_time": "2025-04-22T19:28:51.180Z"
   },
   {
    "duration": 160,
    "start_time": "2025-04-22T22:50:44.004Z"
   },
   {
    "duration": 2143,
    "start_time": "2025-04-22T22:50:53.570Z"
   },
   {
    "duration": 557,
    "start_time": "2025-04-22T22:50:55.715Z"
   },
   {
    "duration": 41,
    "start_time": "2025-04-22T22:50:56.273Z"
   },
   {
    "duration": 133,
    "start_time": "2025-04-22T22:50:56.315Z"
   },
   {
    "duration": 75,
    "start_time": "2025-04-22T22:50:56.451Z"
   },
   {
    "duration": 25,
    "start_time": "2025-04-22T22:50:56.527Z"
   },
   {
    "duration": 10,
    "start_time": "2025-04-22T22:50:56.554Z"
   },
   {
    "duration": 10,
    "start_time": "2025-04-22T22:50:56.565Z"
   },
   {
    "duration": 10,
    "start_time": "2025-04-22T22:50:56.577Z"
   },
   {
    "duration": 4,
    "start_time": "2025-04-22T22:50:56.589Z"
   },
   {
    "duration": 6,
    "start_time": "2025-04-22T22:50:56.595Z"
   },
   {
    "duration": 209,
    "start_time": "2025-04-22T22:50:56.602Z"
   },
   {
    "duration": 178,
    "start_time": "2025-04-22T22:50:56.813Z"
   },
   {
    "duration": 1102,
    "start_time": "2025-04-22T22:50:56.994Z"
   },
   {
    "duration": 207,
    "start_time": "2025-04-22T22:50:58.098Z"
   },
   {
    "duration": 294,
    "start_time": "2025-04-22T22:50:58.307Z"
   },
   {
    "duration": 233,
    "start_time": "2025-04-22T22:50:58.603Z"
   },
   {
    "duration": 94,
    "start_time": "2025-04-22T22:50:58.842Z"
   },
   {
    "duration": 205,
    "start_time": "2025-04-22T22:50:58.943Z"
   },
   {
    "duration": 199,
    "start_time": "2025-04-22T22:50:59.150Z"
   },
   {
    "duration": 166,
    "start_time": "2025-04-22T22:50:59.351Z"
   },
   {
    "duration": 183,
    "start_time": "2025-04-22T22:50:59.519Z"
   },
   {
    "duration": 133,
    "start_time": "2025-04-22T22:51:43.876Z"
   },
   {
    "duration": 169,
    "start_time": "2025-04-22T22:51:58.240Z"
   },
   {
    "duration": 134,
    "start_time": "2025-04-22T22:52:29.159Z"
   },
   {
    "duration": 8,
    "start_time": "2025-04-22T22:53:14.316Z"
   },
   {
    "duration": 191,
    "start_time": "2025-04-22T22:53:20.843Z"
   },
   {
    "duration": 132,
    "start_time": "2025-04-22T22:53:55.284Z"
   },
   {
    "duration": 282,
    "start_time": "2025-04-22T22:54:14.351Z"
   },
   {
    "duration": 313,
    "start_time": "2025-04-22T22:54:35.776Z"
   },
   {
    "duration": 286,
    "start_time": "2025-04-22T22:54:56.842Z"
   },
   {
    "duration": 351,
    "start_time": "2025-04-22T22:55:37.296Z"
   },
   {
    "duration": 301,
    "start_time": "2025-04-22T22:56:06.152Z"
   },
   {
    "duration": 300,
    "start_time": "2025-04-22T22:56:55.948Z"
   },
   {
    "duration": 12,
    "start_time": "2025-04-22T23:02:20.295Z"
   },
   {
    "duration": 3,
    "start_time": "2025-04-22T23:07:53.389Z"
   },
   {
    "duration": 4,
    "start_time": "2025-04-22T23:08:08.566Z"
   },
   {
    "duration": 4,
    "start_time": "2025-04-22T23:08:35.011Z"
   },
   {
    "duration": 4,
    "start_time": "2025-04-22T23:09:00.571Z"
   },
   {
    "duration": 3,
    "start_time": "2025-04-22T23:09:16.279Z"
   },
   {
    "duration": 4,
    "start_time": "2025-04-22T23:09:23.525Z"
   },
   {
    "duration": 4,
    "start_time": "2025-04-22T23:09:32.629Z"
   },
   {
    "duration": 3,
    "start_time": "2025-04-22T23:09:36.801Z"
   },
   {
    "duration": 510,
    "start_time": "2025-04-22T23:10:53.193Z"
   },
   {
    "duration": 8,
    "start_time": "2025-04-22T23:11:01.151Z"
   },
   {
    "duration": 11,
    "start_time": "2025-04-22T23:11:59.742Z"
   },
   {
    "duration": 17,
    "start_time": "2025-04-22T23:12:54.533Z"
   },
   {
    "duration": 11,
    "start_time": "2025-04-22T23:13:09.991Z"
   },
   {
    "duration": 2194,
    "start_time": "2025-04-23T01:01:06.100Z"
   },
   {
    "duration": 546,
    "start_time": "2025-04-23T01:01:08.296Z"
   },
   {
    "duration": 42,
    "start_time": "2025-04-23T01:01:08.844Z"
   },
   {
    "duration": 136,
    "start_time": "2025-04-23T01:01:08.888Z"
   },
   {
    "duration": 74,
    "start_time": "2025-04-23T01:01:09.027Z"
   },
   {
    "duration": 23,
    "start_time": "2025-04-23T01:01:09.103Z"
   },
   {
    "duration": 13,
    "start_time": "2025-04-23T01:01:09.127Z"
   },
   {
    "duration": 10,
    "start_time": "2025-04-23T01:01:09.142Z"
   },
   {
    "duration": 10,
    "start_time": "2025-04-23T01:01:09.154Z"
   },
   {
    "duration": 3,
    "start_time": "2025-04-23T01:01:09.166Z"
   },
   {
    "duration": 6,
    "start_time": "2025-04-23T01:01:09.171Z"
   },
   {
    "duration": 194,
    "start_time": "2025-04-23T01:01:09.178Z"
   },
   {
    "duration": 187,
    "start_time": "2025-04-23T01:01:09.373Z"
   },
   {
    "duration": 1123,
    "start_time": "2025-04-23T01:01:09.563Z"
   },
   {
    "duration": 206,
    "start_time": "2025-04-23T01:01:10.689Z"
   },
   {
    "duration": 315,
    "start_time": "2025-04-23T01:01:10.897Z"
   },
   {
    "duration": 225,
    "start_time": "2025-04-23T01:01:11.214Z"
   },
   {
    "duration": 101,
    "start_time": "2025-04-23T01:01:11.441Z"
   },
   {
    "duration": 187,
    "start_time": "2025-04-23T01:01:11.544Z"
   },
   {
    "duration": 195,
    "start_time": "2025-04-23T01:01:11.733Z"
   },
   {
    "duration": 163,
    "start_time": "2025-04-23T01:01:11.930Z"
   },
   {
    "duration": 291,
    "start_time": "2025-04-23T01:01:12.095Z"
   },
   {
    "duration": 10,
    "start_time": "2025-04-23T01:01:12.389Z"
   },
   {
    "duration": 184,
    "start_time": "2025-04-23T01:16:41.799Z"
   },
   {
    "duration": 12,
    "start_time": "2025-04-23T01:16:46.367Z"
   },
   {
    "duration": 8,
    "start_time": "2025-04-23T01:17:02.656Z"
   },
   {
    "duration": 10,
    "start_time": "2025-04-23T01:23:53.061Z"
   },
   {
    "duration": 13,
    "start_time": "2025-04-23T01:23:58.388Z"
   },
   {
    "duration": 24,
    "start_time": "2025-04-23T01:24:19.734Z"
   },
   {
    "duration": 157,
    "start_time": "2025-04-23T01:24:28.726Z"
   },
   {
    "duration": 195,
    "start_time": "2025-04-23T01:25:02.288Z"
   },
   {
    "duration": 17,
    "start_time": "2025-04-23T01:25:46.084Z"
   },
   {
    "duration": 18,
    "start_time": "2025-04-23T01:25:56.541Z"
   },
   {
    "duration": 15,
    "start_time": "2025-04-23T01:26:17.653Z"
   },
   {
    "duration": 17,
    "start_time": "2025-04-23T01:27:11.406Z"
   },
   {
    "duration": 305,
    "start_time": "2025-04-23T01:30:24.488Z"
   },
   {
    "duration": 17,
    "start_time": "2025-04-23T01:30:35.067Z"
   },
   {
    "duration": 289,
    "start_time": "2025-04-23T02:31:28.006Z"
   },
   {
    "duration": 51,
    "start_time": "2025-04-23T02:31:39.752Z"
   },
   {
    "duration": 130,
    "start_time": "2025-04-23T02:32:28.800Z"
   },
   {
    "duration": 16,
    "start_time": "2025-04-23T02:32:39.395Z"
   },
   {
    "duration": 9,
    "start_time": "2025-04-23T02:34:18.320Z"
   },
   {
    "duration": 9,
    "start_time": "2025-04-23T02:34:27.894Z"
   },
   {
    "duration": 5,
    "start_time": "2025-04-23T02:35:22.654Z"
   },
   {
    "duration": 4,
    "start_time": "2025-04-23T02:38:43.854Z"
   },
   {
    "duration": 3,
    "start_time": "2025-04-23T02:38:52.259Z"
   },
   {
    "duration": 3,
    "start_time": "2025-04-23T02:38:57.827Z"
   },
   {
    "duration": 4,
    "start_time": "2025-04-23T02:39:32.306Z"
   },
   {
    "duration": 123,
    "start_time": "2025-04-23T02:40:58.658Z"
   },
   {
    "duration": 103,
    "start_time": "2025-04-23T02:41:16.367Z"
   },
   {
    "duration": 117,
    "start_time": "2025-04-23T02:44:52.513Z"
   },
   {
    "duration": 116,
    "start_time": "2025-04-23T02:44:59.933Z"
   },
   {
    "duration": 110,
    "start_time": "2025-04-23T02:45:06.277Z"
   },
   {
    "duration": 120,
    "start_time": "2025-04-23T02:45:36.713Z"
   },
   {
    "duration": 214,
    "start_time": "2025-04-23T02:46:01.968Z"
   },
   {
    "duration": 119,
    "start_time": "2025-04-23T02:46:08.361Z"
   },
   {
    "duration": 113,
    "start_time": "2025-04-23T02:46:39.559Z"
   },
   {
    "duration": 115,
    "start_time": "2025-04-23T02:46:50.555Z"
   },
   {
    "duration": 7,
    "start_time": "2025-04-23T02:48:03.949Z"
   },
   {
    "duration": 6,
    "start_time": "2025-04-23T02:48:10.378Z"
   },
   {
    "duration": 118,
    "start_time": "2025-04-23T02:48:15.429Z"
   },
   {
    "duration": 121,
    "start_time": "2025-04-23T02:48:28.542Z"
   },
   {
    "duration": 127,
    "start_time": "2025-04-23T02:56:23.167Z"
   },
   {
    "duration": 4,
    "start_time": "2025-04-23T02:56:42.851Z"
   },
   {
    "duration": 473,
    "start_time": "2025-04-23T03:01:31.189Z"
   },
   {
    "duration": 508,
    "start_time": "2025-04-23T03:01:36.279Z"
   },
   {
    "duration": 482,
    "start_time": "2025-04-23T03:01:41.679Z"
   },
   {
    "duration": 2577,
    "start_time": "2025-04-23T22:50:14.318Z"
   },
   {
    "duration": 487,
    "start_time": "2025-04-23T22:50:16.897Z"
   },
   {
    "duration": 52,
    "start_time": "2025-04-23T22:50:17.386Z"
   },
   {
    "duration": 149,
    "start_time": "2025-04-23T22:50:17.441Z"
   },
   {
    "duration": 91,
    "start_time": "2025-04-23T22:50:17.592Z"
   },
   {
    "duration": 19,
    "start_time": "2025-04-23T22:50:17.685Z"
   },
   {
    "duration": 16,
    "start_time": "2025-04-23T22:50:17.706Z"
   },
   {
    "duration": 9,
    "start_time": "2025-04-23T22:50:17.725Z"
   },
   {
    "duration": 9,
    "start_time": "2025-04-23T22:50:17.736Z"
   },
   {
    "duration": 21,
    "start_time": "2025-04-23T22:50:17.749Z"
   },
   {
    "duration": 7,
    "start_time": "2025-04-23T22:50:17.772Z"
   },
   {
    "duration": 170,
    "start_time": "2025-04-23T22:50:17.781Z"
   },
   {
    "duration": 190,
    "start_time": "2025-04-23T22:50:17.953Z"
   },
   {
    "duration": 1336,
    "start_time": "2025-04-23T22:50:18.145Z"
   },
   {
    "duration": 226,
    "start_time": "2025-04-23T22:50:19.483Z"
   },
   {
    "duration": 298,
    "start_time": "2025-04-23T22:50:19.711Z"
   },
   {
    "duration": 247,
    "start_time": "2025-04-23T22:50:20.011Z"
   },
   {
    "duration": 105,
    "start_time": "2025-04-23T22:50:20.260Z"
   },
   {
    "duration": 198,
    "start_time": "2025-04-23T22:50:20.372Z"
   },
   {
    "duration": 189,
    "start_time": "2025-04-23T22:50:20.573Z"
   },
   {
    "duration": 169,
    "start_time": "2025-04-23T22:50:20.764Z"
   },
   {
    "duration": 307,
    "start_time": "2025-04-23T22:50:20.935Z"
   },
   {
    "duration": 30,
    "start_time": "2025-04-23T22:50:21.244Z"
   },
   {
    "duration": 18,
    "start_time": "2025-04-23T22:50:21.276Z"
   },
   {
    "duration": 12,
    "start_time": "2025-04-23T22:50:21.297Z"
   },
   {
    "duration": 3,
    "start_time": "2025-04-23T22:50:21.312Z"
   },
   {
    "duration": 149,
    "start_time": "2025-04-23T22:50:21.318Z"
   },
   {
    "duration": 562,
    "start_time": "2025-04-23T22:50:21.477Z"
   },
   {
    "duration": 553,
    "start_time": "2025-04-23T22:50:52.078Z"
   },
   {
    "duration": 222,
    "start_time": "2025-04-23T22:51:00.525Z"
   },
   {
    "duration": 12,
    "start_time": "2025-04-23T22:51:20.098Z"
   },
   {
    "duration": 53,
    "start_time": "2025-04-23T22:53:18.968Z"
   },
   {
    "duration": 47,
    "start_time": "2025-04-23T22:53:36.359Z"
   },
   {
    "duration": 35,
    "start_time": "2025-04-23T22:53:52.237Z"
   },
   {
    "duration": 7,
    "start_time": "2025-04-23T22:55:37.960Z"
   },
   {
    "duration": 13,
    "start_time": "2025-04-23T22:56:06.482Z"
   },
   {
    "duration": 3,
    "start_time": "2025-04-23T22:58:15.030Z"
   },
   {
    "duration": 5,
    "start_time": "2025-04-23T22:58:19.314Z"
   },
   {
    "duration": 7,
    "start_time": "2025-04-23T22:58:29.581Z"
   },
   {
    "duration": 6,
    "start_time": "2025-04-23T22:58:51.516Z"
   },
   {
    "duration": 8,
    "start_time": "2025-04-23T22:58:55.874Z"
   },
   {
    "duration": 5,
    "start_time": "2025-04-23T22:59:28.750Z"
   },
   {
    "duration": 8,
    "start_time": "2025-04-23T22:59:32.198Z"
   },
   {
    "duration": 5,
    "start_time": "2025-04-23T23:00:11.533Z"
   },
   {
    "duration": 51,
    "start_time": "2025-04-23T23:11:12.378Z"
   },
   {
    "duration": 43,
    "start_time": "2025-04-23T23:12:50.391Z"
   },
   {
    "duration": 50,
    "start_time": "2025-04-23T23:12:55.624Z"
   },
   {
    "duration": 91,
    "start_time": "2025-04-23T23:13:05.207Z"
   },
   {
    "duration": 42,
    "start_time": "2025-04-23T23:13:12.644Z"
   },
   {
    "duration": 43,
    "start_time": "2025-04-23T23:13:23.298Z"
   },
   {
    "duration": 41,
    "start_time": "2025-04-23T23:13:31.292Z"
   },
   {
    "duration": 56,
    "start_time": "2025-04-23T23:16:35.465Z"
   },
   {
    "duration": 7,
    "start_time": "2025-04-23T23:18:00.745Z"
   },
   {
    "duration": 6,
    "start_time": "2025-04-23T23:18:09.524Z"
   },
   {
    "duration": 6,
    "start_time": "2025-04-23T23:18:13.578Z"
   },
   {
    "duration": 4,
    "start_time": "2025-04-23T23:19:04.847Z"
   },
   {
    "duration": 7,
    "start_time": "2025-04-23T23:19:08.691Z"
   },
   {
    "duration": 7,
    "start_time": "2025-04-23T23:19:11.758Z"
   },
   {
    "duration": 3,
    "start_time": "2025-04-23T23:52:23.103Z"
   },
   {
    "duration": 4,
    "start_time": "2025-04-23T23:52:25.400Z"
   },
   {
    "duration": 5,
    "start_time": "2025-04-23T23:52:51.857Z"
   },
   {
    "duration": 389,
    "start_time": "2025-04-24T00:03:33.099Z"
   },
   {
    "duration": 337,
    "start_time": "2025-04-24T00:04:31.135Z"
   },
   {
    "duration": 329,
    "start_time": "2025-04-24T00:04:39.546Z"
   },
   {
    "duration": 307,
    "start_time": "2025-04-24T00:05:25.316Z"
   },
   {
    "duration": 592,
    "start_time": "2025-04-24T00:05:41.655Z"
   },
   {
    "duration": 337,
    "start_time": "2025-04-24T00:05:57.482Z"
   },
   {
    "duration": 250,
    "start_time": "2025-04-24T01:18:36.947Z"
   }
  ],
  "kernelspec": {
   "display_name": "base",
   "language": "python",
   "name": "python3"
  },
  "language_info": {
   "codemirror_mode": {
    "name": "ipython",
    "version": 3
   },
   "file_extension": ".py",
   "mimetype": "text/x-python",
   "name": "python",
   "nbconvert_exporter": "python",
   "pygments_lexer": "ipython3",
   "version": "3.12.7"
  },
  "toc": {
   "base_numbering": 1,
   "nav_menu": {},
   "number_sections": true,
   "sideBar": true,
   "skip_h1_title": true,
   "title_cell": "Table of Contents",
   "title_sidebar": "Contents",
   "toc_cell": false,
   "toc_position": {},
   "toc_section_display": true,
   "toc_window_display": false
  }
 },
 "nbformat": 4,
 "nbformat_minor": 2
}
